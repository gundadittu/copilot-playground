{
 "cells": [
  {
   "cell_type": "code",
   "execution_count": 23,
   "metadata": {},
   "outputs": [],
   "source": [
    "text = \"\"\"\n",
    "Date Published: April 25, 2023\n",
    "\n",
    "URL: https://www.ama-assn.org/practice-management/cpt/cigna-s-modifier-25-policy-burdens-doctors-and-deters-prompt-care\n",
    "\n",
    "Content:\n",
    "What’s the news: The AMA and more than 100 other physician and health care professional organizations are raising serious concerns about The Cigna Group’s recently announced policy requiring submission of office notes with all claims including evaluation and management (E/M) Current Procedural Terminology (CPT®) codes 99212, 99213, 99214 and 99215 and modifier 25 when a minor procedure is billed.\n",
    "\n",
    "In a letter to Cigna CEO David Cordani (PDF), these groups are urging the major health insurer to “immediately rescind” the policy because of its “negative impact on practice administrative costs and burdens across medical specialties and geographic regions, as well as its potential negative effect on patients.”\n",
    "\n",
    "The company should, instead, work with the AMA and state medical and national specialty societies “on a collaborative educational initiative to ensure correct use of modifier 25.”\n",
    "\n",
    "Why it’s important: Cigna has failed to provide “data demonstrating unexpectedly high use of the modifier or details of the underlying rationale.”  \n",
    "\n",
    "As detailed in a CPT® Assistant article, “Reporting CPT Modifier 25” (PDF), this modifier “is used when distinct services are performed on the same day.” That is because the “patient’s condition required a significant, separately identifiable” E/M service that is “above and beyond that associated with another procedure or service being reported by the same physician” on the same day.\n",
    "\n",
    "In their letter, the AMA and other health-professional organizations noted that “by facilitating the provision of unscheduled, medically necessary care, modifier 25 supports prompt diagnosis and streamlined treatment—which in turn promotes high-value, high-quality and patient-centric care.”\n",
    "\n",
    "Cigna’s policy, by contrast, “creates a disincentive for physicians and other health care professionals to provide unscheduled services, which may force patients to schedule multiple visits” to get the care they need. Those extra visits waste patients’ time and mean more out-of-pocket co-pays.\n",
    "\n",
    "Additionally, Cigna’s policy communication was wrong to suggest that using modifier 25 requires the E/M service to address a “new” medical problem. Rather, guidelines from the Centers for Medicare & Medicaid Services state that “the E/M service and minor surgical procedure do not require different diagnoses.”\n",
    "\n",
    "In addition to making it harder for patients to get timely medical care, the Cigna policy imposes significant administrative burdens and costs on physicians and other health professionals.\n",
    "\n",
    "“By bluntly requiring clinical documentation for all claims for an E/M service reported with modifier 25, physicians” will have to “submit an enormous number of office notes, and Cigna will be deluged with medical records,” says the letter from the AMA and others.\n",
    "\n",
    "The company had previously told medical associations that only about 10% of the documentation submitted would be reviewed.\n",
    "\n",
    "“This troubling admission demonstrates Cigna’s awareness of the unmanageable volume of records in question and, more importantly, highlights the pointless administrative waste created by the policy,” says the organizations’ letter to Cigna’s CEO.\n",
    "\n",
    "In addition, Cigna’s new policy gives physicians two options for submitting the required notes when reporting modifier 25: fax, and an insecure email address that is not HIPAA-compliant.\n",
    "\n",
    "“All of these concerns underscore that Cigna’s policy is extremely ill-timed and will further hamper health care professionals already grappling with clinician burnout, workforce shortages, recovery from the COVID-19 public health emergency, and rising practice expenses due to inflation,” says the organizations’ letter.\n",
    "\n",
    "Learn more: A better, more productive approach to achieving Cigna’s stated goal would be to engage a selected group of physicians and other health professionals “with unexpected coding patterns in follow-up education and dialogue.” The organizations offered to work with Cigna to disseminate educational materials and partner on training activities.\n",
    "\n",
    "The AMA’s “Debunking Regulatory Myths” series addressed the modifier 25 question at issue in this article: “Can physicians bill for both preventive and E/M services in the same visit?”\n",
    "\n",
    "“Physicians are not prohibited from coding and billing for both preventive and problem-focused E/M services when they are performed during the same appointment,” the AMA explainer says.\n",
    "\n",
    "The AMA has policy on uses and abuses of CPT modifier 25 and opposing reduced payment for modifier 25. The AMA previously led a successful effort urging Anthem to rescind its proposed pay cuts for same-day services reported with modifier 25.\n",
    "\"\"\""
   ]
  },
  {
   "cell_type": "code",
   "execution_count": 30,
   "metadata": {},
   "outputs": [],
   "source": [
    "import os\n",
    "from dotenv import load_dotenv\n",
    "\n",
    "load_dotenv(\".env\")\n",
    "\n",
    "open_ai_api_key = os.getenv(\"OPEN_AI_API_KEY\")"
   ]
  },
  {
   "cell_type": "code",
   "execution_count": 40,
   "metadata": {},
   "outputs": [],
   "source": [
    "from langchain.embeddings.openai import OpenAIEmbeddings\n",
    "from langchain.vectorstores import Chroma\n",
    "\n",
    "embeddings = OpenAIEmbeddings(openai_api_key=open_ai_api_key)\n",
    "texts = [text]\n",
    "chroma = Chroma.from_texts(texts, embeddings, persist_directory=\"./payer_policies_chroma_db\")"
   ]
  },
  {
   "cell_type": "code",
   "execution_count": 38,
   "metadata": {},
   "outputs": [],
   "source": [
    "result = (chroma.similarity_search(query=\"What is Cigna's policy with the 25 modifier?\", k=1))[0]"
   ]
  },
  {
   "cell_type": "code",
   "execution_count": 39,
   "metadata": {},
   "outputs": [
    {
     "name": "stdout",
     "output_type": "stream",
     "text": [
      "Cigna's policy with the 25 modifier requires the submission of office notes with all claims, including evaluation and management codes and modifier 25 when a minor procedure is billed. The policy has been criticized for creating a disincentive for physicians to provide unscheduled services, potentially forcing patients to schedule multiple visits, and for imposing significant administrative burdens on healthcare professionals.\n"
     ]
    }
   ],
   "source": [
    " from langchain import OpenAI\n",
    "\n",
    "prompt = \"\"\"\n",
    "  Content:\n",
    "  {text}\n",
    "\n",
    "  Please summarize any helpful text from the above content that answers the following question in 1-2 sentences: {question}\n",
    "\"\"\".format(text=result, question=\"What is Cigna's policy with the 25 modifier?\")\n",
    "\n",
    "llm = OpenAI(temperature=0, model_name=\"gpt-4-32k\", openai_api_key=open_ai_api_key)\n",
    "\n",
    "print(llm(prompt))"
   ]
  }
 ],
 "metadata": {
  "kernelspec": {
   "display_name": "copilot-playground",
   "language": "python",
   "name": "python3"
  },
  "language_info": {
   "codemirror_mode": {
    "name": "ipython",
    "version": 3
   },
   "file_extension": ".py",
   "mimetype": "text/x-python",
   "name": "python",
   "nbconvert_exporter": "python",
   "pygments_lexer": "ipython3",
   "version": "3.11.4"
  },
  "orig_nbformat": 4
 },
 "nbformat": 4,
 "nbformat_minor": 2
}
